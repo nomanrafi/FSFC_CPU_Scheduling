{
 "cells": [
  {
   "cell_type": "code",
   "execution_count": 5,
   "metadata": {},
   "outputs": [
    {
     "name": "stdout",
     "output_type": "stream",
     "text": [
      "Process 1: Arrival Time = 4, Burst Time = 6, Completion Time = 10, Turnaround Time = 6, Waiting Time = 0\n",
      "Process 2: Arrival Time = 4, Burst Time = 8, Completion Time = 18, Turnaround Time = 14, Waiting Time = 6\n",
      "Process 3: Arrival Time = 5, Burst Time = 2, Completion Time = 20, Turnaround Time = 15, Waiting Time = 13\n",
      "Process 4: Arrival Time = 7, Burst Time = 8, Completion Time = 28, Turnaround Time = 21, Waiting Time = 13\n"
     ]
    }
   ],
   "source": [
    "# Taking input for the number of processes\n",
    "n = int(input(\"Enter number of processes: \"))\n",
    "\n",
    "# Initializing an empty list to store process information\n",
    "processes = []\n",
    "\n",
    "# Loop to input process details: Process ID, Arrival Time, and Burst Time\n",
    "for i in range(n):\n",
    "    pid = input(\"Enter process ID: \")\n",
    "    arrival_time = int(input(\"Enter arrival time: \"))\n",
    "    burst_time = int(input(\"Enter burst time: \"))\n",
    "    processes.append([pid, arrival_time, burst_time])\n",
    "\n",
    "# Sorting the processes list based on Arrival Time using Bubble Sort\n",
    "# This ensures that processes are ordered by their arrival times for FCFS scheduling\n",
    "for i in range(n - 1):\n",
    "    for j in range(n - i - 1):\n",
    "        if processes[j][1] > processes[j + 1][1]:\n",
    "            processes[j], processes[j + 1] = processes[j + 1], processes[j]\n",
    "\n",
    "# Variable to track the current completion time of processes\n",
    "completion_time = 0\n",
    "\n",
    "# Loop to calculate Completion Time, Turnaround Time, and Waiting Time for each process\n",
    "for process in processes:\n",
    "    # Update completion time to the maximum of current completion or arrival time + burst time\n",
    "    completion_time = max(completion_time, process[1]) + process[2]\n",
    "    \n",
    "    # Turnaround Time = Completion Time - Arrival Time\n",
    "    turnaround_time = completion_time - process[1]\n",
    "    \n",
    "    # Waiting Time = Turnaround Time - Burst Time\n",
    "    waiting_time = turnaround_time - process[2]\n",
    "    \n",
    "    # Displaying calculated times for each process\n",
    "    print(f\"Process {process[0]}: Arrival Time = {process[1]}, Burst Time = {process[2]}, Completion Time = {completion_time}, Turnaround Time = {turnaround_time}, Waiting Time = {waiting_time}\")\n"
   ]
  }
 ],
 "metadata": {
  "kernelspec": {
   "display_name": "base",
   "language": "python",
   "name": "python3"
  },
  "language_info": {
   "codemirror_mode": {
    "name": "ipython",
    "version": 3
   },
   "file_extension": ".py",
   "mimetype": "text/x-python",
   "name": "python",
   "nbconvert_exporter": "python",
   "pygments_lexer": "ipython3",
   "version": "3.11.7"
  }
 },
 "nbformat": 4,
 "nbformat_minor": 2
}
