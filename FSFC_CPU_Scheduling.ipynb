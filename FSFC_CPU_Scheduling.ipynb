{
 "cells": [
  {
   "cell_type": "code",
   "execution_count": 3,
   "metadata": {},
   "outputs": [
    {
     "name": "stdout",
     "output_type": "stream",
     "text": [
      "Process 1: Arrival Time = 1, Burst Time = 3, Completion Time = 4, Turnaround Time = 3, Waiting Time = 0\n",
      "Process 2: Arrival Time = 4, Burst Time = 6, Completion Time = 10, Turnaround Time = 6, Waiting Time = 0\n",
      "Process 3: Arrival Time = 6, Burst Time = 2, Completion Time = 12, Turnaround Time = 6, Waiting Time = 4\n",
      "Process 4: Arrival Time = 7, Burst Time = 4, Completion Time = 16, Turnaround Time = 9, Waiting Time = 5\n"
     ]
    }
   ],
   "source": [
    "n = int(input(\"Enter number of processes: \"))\n",
    "processes = []\n",
    "for i in range(n):\n",
    "    pid = input(\"Enter process ID: \")\n",
    "    arrival_time = int(input(\"Enter arrival time: \"))\n",
    "    burst_time = int(input(\"Enter burst time: \"))\n",
    "    processes.append([pid, arrival_time, burst_time])\n",
    "\n",
    "for i in range(n - 1):\n",
    "    for j in range(n - i - 1):\n",
    "        if processes[j][1] > processes[j + 1][1]:\n",
    "            processes[j], processes[j + 1] = processes[j + 1], processes[j]\n",
    "\n",
    "completion_time = 0\n",
    "for process in processes:\n",
    "    completion_time = max(completion_time, process[1]) + process[2]\n",
    "    turnaround_time = completion_time - process[1]\n",
    "    waiting_time = turnaround_time - process[2]\n",
    "    print(f\"Process {process[0]}: Arrival Time = {process[1]}, Burst Time = {process[2]}, Completion Time = {completion_time}, Turnaround Time = {turnaround_time}, Waiting Time = {waiting_time}\")"
   ]
  }
 ],
 "metadata": {
  "kernelspec": {
   "display_name": "base",
   "language": "python",
   "name": "python3"
  },
  "language_info": {
   "codemirror_mode": {
    "name": "ipython",
    "version": 3
   },
   "file_extension": ".py",
   "mimetype": "text/x-python",
   "name": "python",
   "nbconvert_exporter": "python",
   "pygments_lexer": "ipython3",
   "version": "3.11.7"
  }
 },
 "nbformat": 4,
 "nbformat_minor": 2
}
